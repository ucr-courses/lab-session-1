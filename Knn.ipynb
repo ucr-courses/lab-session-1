{
  "nbformat": 4,
  "nbformat_minor": 0,
  "metadata": {
    "colab": {
      "provenance": [],
      "include_colab_link": true
    },
    "kernelspec": {
      "name": "ir",
      "display_name": "R"
    },
    "language_info": {
      "name": "R"
    }
  },
  "cells": [
    {
      "cell_type": "markdown",
      "metadata": {
        "id": "view-in-github",
        "colab_type": "text"
      },
      "source": [
        "<a href=\"https://colab.research.google.com/github/ucr-courses/lab-session-1/blob/main/Knn.ipynb\" target=\"_parent\"><img src=\"https://colab.research.google.com/assets/colab-badge.svg\" alt=\"Open In Colab\"/></a>"
      ]
    },
    {
      "cell_type": "code",
      "source": [
        "# prompt: simulate a 100 row dataset with two variables price and year\n",
        "\n",
        "df <- data.frame(\n",
        "  price = rnorm(100, mean = 100, sd = 15),\n",
        "  year = sample(2000:2023, 100, replace = TRUE)\n",
        ")"
      ],
      "metadata": {
        "id": "A5gp6KyRhrb-"
      },
      "execution_count": 5,
      "outputs": []
    },
    {
      "cell_type": "code",
      "source": [
        "head(df)"
      ],
      "metadata": {
        "colab": {
          "base_uri": "https://localhost:8080/",
          "height": 283
        },
        "id": "_eUWW7AOh7h8",
        "outputId": "9962ca88-9a06-4581-e06f-8f64f9e049a3"
      },
      "execution_count": 6,
      "outputs": [
        {
          "output_type": "display_data",
          "data": {
            "text/html": [
              "<table class=\"dataframe\">\n",
              "<caption>A data.frame: 6 × 2</caption>\n",
              "<thead>\n",
              "\t<tr><th></th><th scope=col>price</th><th scope=col>year</th></tr>\n",
              "\t<tr><th></th><th scope=col>&lt;dbl&gt;</th><th scope=col>&lt;int&gt;</th></tr>\n",
              "</thead>\n",
              "<tbody>\n",
              "\t<tr><th scope=row>1</th><td> 73.37891</td><td>2016</td></tr>\n",
              "\t<tr><th scope=row>2</th><td>136.56682</td><td>2002</td></tr>\n",
              "\t<tr><th scope=row>3</th><td> 87.75861</td><td>2019</td></tr>\n",
              "\t<tr><th scope=row>4</th><td> 78.17893</td><td>2003</td></tr>\n",
              "\t<tr><th scope=row>5</th><td>115.66796</td><td>2014</td></tr>\n",
              "\t<tr><th scope=row>6</th><td> 93.70230</td><td>2014</td></tr>\n",
              "</tbody>\n",
              "</table>\n"
            ],
            "text/markdown": "\nA data.frame: 6 × 2\n\n| <!--/--> | price &lt;dbl&gt; | year &lt;int&gt; |\n|---|---|---|\n| 1 |  73.37891 | 2016 |\n| 2 | 136.56682 | 2002 |\n| 3 |  87.75861 | 2019 |\n| 4 |  78.17893 | 2003 |\n| 5 | 115.66796 | 2014 |\n| 6 |  93.70230 | 2014 |\n\n",
            "text/latex": "A data.frame: 6 × 2\n\\begin{tabular}{r|ll}\n  & price & year\\\\\n  & <dbl> & <int>\\\\\n\\hline\n\t1 &  73.37891 & 2016\\\\\n\t2 & 136.56682 & 2002\\\\\n\t3 &  87.75861 & 2019\\\\\n\t4 &  78.17893 & 2003\\\\\n\t5 & 115.66796 & 2014\\\\\n\t6 &  93.70230 & 2014\\\\\n\\end{tabular}\n",
            "text/plain": [
              "  price     year\n",
              "1  73.37891 2016\n",
              "2 136.56682 2002\n",
              "3  87.75861 2019\n",
              "4  78.17893 2003\n",
              "5 115.66796 2014\n",
              "6  93.70230 2014"
            ]
          },
          "metadata": {}
        }
      ]
    },
    {
      "cell_type": "code",
      "source": [
        "df$Education <- df$price+60"
      ],
      "metadata": {
        "id": "lcvEbhIXh-HL"
      },
      "execution_count": 7,
      "outputs": []
    },
    {
      "cell_type": "code",
      "source": [],
      "metadata": {
        "id": "BJC_uvH9l259"
      },
      "execution_count": null,
      "outputs": []
    }
  ]
}