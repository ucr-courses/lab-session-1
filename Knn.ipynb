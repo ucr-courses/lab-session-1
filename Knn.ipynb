{
  "nbformat": 4,
  "nbformat_minor": 0,
  "metadata": {
    "colab": {
      "provenance": [],
      "authorship_tag": "ABX9TyMc1Zu6Lj+XLQx6VU0LfaRx",
      "include_colab_link": true
    },
    "kernelspec": {
      "name": "ir",
      "display_name": "R"
    },
    "language_info": {
      "name": "R"
    }
  },
  "cells": [
    {
      "cell_type": "markdown",
      "metadata": {
        "id": "view-in-github",
        "colab_type": "text"
      },
      "source": [
        "<a href=\"https://colab.research.google.com/github/ucr-courses/lab-session-1/blob/main/Knn.ipynb\" target=\"_parent\"><img src=\"https://colab.research.google.com/assets/colab-badge.svg\" alt=\"Open In Colab\"/></a>"
      ]
    },
    {
      "cell_type": "code",
      "source": [
        "# prompt: simulate a 100 row dataset with two variables price and year\n",
        "\n",
        "df <- data.frame(\n",
        "  price = rnorm(100, mean = 100, sd = 15),\n",
        "  year = sample(2000:2023, 100, replace = TRUE)\n",
        ")"
      ],
      "metadata": {
        "id": "A5gp6KyRhrb-"
      },
      "execution_count": 3,
      "outputs": []
    },
    {
      "cell_type": "code",
      "source": [
        "head(df)"
      ],
      "metadata": {
        "colab": {
          "base_uri": "https://localhost:8080/",
          "height": 283
        },
        "id": "_eUWW7AOh7h8",
        "outputId": "da91ad06-88d4-4ee1-a3de-1229836245b8"
      },
      "execution_count": 4,
      "outputs": [
        {
          "output_type": "display_data",
          "data": {
            "text/html": [
              "<table class=\"dataframe\">\n",
              "<caption>A data.frame: 6 × 2</caption>\n",
              "<thead>\n",
              "\t<tr><th></th><th scope=col>price</th><th scope=col>year</th></tr>\n",
              "\t<tr><th></th><th scope=col>&lt;dbl&gt;</th><th scope=col>&lt;int&gt;</th></tr>\n",
              "</thead>\n",
              "<tbody>\n",
              "\t<tr><th scope=row>1</th><td> 99.26646</td><td>2002</td></tr>\n",
              "\t<tr><th scope=row>2</th><td>104.92971</td><td>2022</td></tr>\n",
              "\t<tr><th scope=row>3</th><td>120.85015</td><td>2011</td></tr>\n",
              "\t<tr><th scope=row>4</th><td>107.61797</td><td>2011</td></tr>\n",
              "\t<tr><th scope=row>5</th><td> 86.84749</td><td>2005</td></tr>\n",
              "\t<tr><th scope=row>6</th><td>129.05281</td><td>2007</td></tr>\n",
              "</tbody>\n",
              "</table>\n"
            ],
            "text/markdown": "\nA data.frame: 6 × 2\n\n| <!--/--> | price &lt;dbl&gt; | year &lt;int&gt; |\n|---|---|---|\n| 1 |  99.26646 | 2002 |\n| 2 | 104.92971 | 2022 |\n| 3 | 120.85015 | 2011 |\n| 4 | 107.61797 | 2011 |\n| 5 |  86.84749 | 2005 |\n| 6 | 129.05281 | 2007 |\n\n",
            "text/latex": "A data.frame: 6 × 2\n\\begin{tabular}{r|ll}\n  & price & year\\\\\n  & <dbl> & <int>\\\\\n\\hline\n\t1 &  99.26646 & 2002\\\\\n\t2 & 104.92971 & 2022\\\\\n\t3 & 120.85015 & 2011\\\\\n\t4 & 107.61797 & 2011\\\\\n\t5 &  86.84749 & 2005\\\\\n\t6 & 129.05281 & 2007\\\\\n\\end{tabular}\n",
            "text/plain": [
              "  price     year\n",
              "1  99.26646 2002\n",
              "2 104.92971 2022\n",
              "3 120.85015 2011\n",
              "4 107.61797 2011\n",
              "5  86.84749 2005\n",
              "6 129.05281 2007"
            ]
          },
          "metadata": {}
        }
      ]
    },
    {
      "cell_type": "code",
      "source": [],
      "metadata": {
        "id": "lcvEbhIXh-HL"
      },
      "execution_count": null,
      "outputs": []
    }
  ]
}